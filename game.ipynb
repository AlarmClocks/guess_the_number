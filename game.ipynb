{
 "cells": [
  {
   "attachments": {},
   "cell_type": "markdown",
   "metadata": {},
   "source": [
    "# Игра угадай число"
   ]
  },
  {
   "cell_type": "code",
   "execution_count": 2,
   "metadata": {},
   "outputs": [
    {
     "name": "stdout",
     "output_type": "stream",
     "text": [
      "Ваш алгоритм угадывает число в среднем за:5 попыток\n",
      "Всего загадано 1000 числел (до 1 до 100) и среднее количестов попыток на отгадывание = 5.\n"
     ]
    },
    {
     "data": {
      "text/plain": [
       "5"
      ]
     },
     "execution_count": 2,
     "metadata": {},
     "output_type": "execute_result"
    }
   ],
   "source": [
    "import game\n",
    "game.score_game(game.random_predict)"
   ]
  },
  {
   "attachments": {},
   "cell_type": "markdown",
   "metadata": {},
   "source": [
    "Проект 0 = Угадай число = guess the number"
   ]
  },
  {
   "cell_type": "code",
   "execution_count": 3,
   "metadata": {},
   "outputs": [
    {
     "name": "stdout",
     "output_type": "stream",
     "text": [
      "Ваш алгоритм угадывает число в среднем за:5 попыток\n",
      "Всего загадано 1000 числел (до 1 до 100) и среднее количестов попыток на отгадывание = 5.\n"
     ]
    }
   ],
   "source": [
    "\"\"\"\n",
    "Игра угадай число\n",
    "Компьютер сам загадывает и сам угадывает число\n",
    "\n",
    "УСЛОВИЯ ЗАДАНИЯ\n",
    "Компьютер загадывает целое число от 1 до 100, \n",
    "и нам его нужно угадать. \n",
    "Под «угадать» подразумевается \n",
    "«написать программу, которая угадывает число».\n",
    "Алгоритм учитывает информацию о том, \n",
    "больше или меньше случайное число нужного нам числа.\n",
    "\"\"\"\n",
    "\n",
    "import numpy as np\n",
    "\n",
    "\n",
    "def random_predict(number: int = 1) -> int:\n",
    "    \"\"\" угадываем число в диапазоне от 1 до 100\n",
    "\n",
    "    Args:\n",
    "        number (int, optional): Загаданное число. Defaults to 1.\n",
    "\n",
    "    Returns:\n",
    "        int: Число попыток\n",
    "    \"\"\"\n",
    "    # count = 0 # счетчик попыток поиска\n",
    "    start_num = 1 # начальное число диапазона поиска\n",
    "    stop_num = 101 # конечное число диапазона поиска\n",
    "    for count in range(start_num, stop_num):\n",
    "        # count += 1\n",
    "        predict_number = int((start_num + stop_num)/2) \n",
    "        # предполагаемое число\n",
    "        # print(f'        def random_predic({number})     predict_number={predict_number}      start_num={start_num}  stop_num={stop_num}')\n",
    "        \n",
    "        if number == predict_number:\n",
    "            # print(f'    def random_predic({number}) найдено за {count} шагов(попыток)')\n",
    "            break  # выход из цикла если угадали\n",
    "        elif number > predict_number:\n",
    "            # загаданное число БОЛЬШЕ предполагаемого числа\n",
    "            # будем искать в \"верхнем\" диапазоне\n",
    "            start_num = predict_number + 1\n",
    "        else:\n",
    "            # загаданное число МЕНЬШЕ предполагаемого числа\n",
    "            # будем искать в \"нижнем\" диапазоне\n",
    "            stop_num = predict_number - 1\n",
    "  \n",
    "    return count\n",
    "\n",
    "\n",
    "def score_game(random_predict) -> int:\n",
    "    \"\"\"За какое количство попыток в среднем за 1000 подходов угадывает наш алгоритм\n",
    "\n",
    "    Args:\n",
    "        random_predict ([type]): функция угадывания\n",
    "\n",
    "    Returns:\n",
    "        int: среднее количество попыток\n",
    "    \"\"\"\n",
    "    count_ls = [] # сюда будем сохранять КолПопытокНахождения загаданного числа\n",
    "    np.random.seed(1)  # фиксируем сид для воспроизводимости\n",
    "    random_array = np.random.randint(1, 101, size=(1000))  # загадали список чисел\n",
    "    # print(f'Список из 100 загаданных компом чисел {random_array} ')\n",
    "\n",
    "    for number in random_array:\n",
    "        count_ls.append(random_predict(number))\n",
    "\n",
    "    score = int(np.mean(count_ls))\n",
    "    count = len(count_ls)\n",
    "    # print(f\"Ваш алгоритм угадывает число в среднем за:{score} попыток\")\n",
    "    print(f\"Всего загадано {count} числел (до 1 до 100) и среднее количестов попыток на отгадывание = {score}.\")\n",
    "    return score\n",
    "\n",
    "\n",
    "if __name__ == \"__main__\":\n",
    "    # RUN\n",
    "    score_game(random_predict)"
   ]
  }
 ],
 "metadata": {
  "kernelspec": {
   "display_name": "Python 3",
   "language": "python",
   "name": "python3"
  },
  "language_info": {
   "codemirror_mode": {
    "name": "ipython",
    "version": 3
   },
   "file_extension": ".py",
   "mimetype": "text/x-python",
   "name": "python",
   "nbconvert_exporter": "python",
   "pygments_lexer": "ipython3",
   "version": "3.11.0"
  },
  "orig_nbformat": 4,
  "vscode": {
   "interpreter": {
    "hash": "e956c49ae0caa224b5fdd754cbc353d7e61c6c61f7329ee680c7f7b4f1b71a8e"
   }
  }
 },
 "nbformat": 4,
 "nbformat_minor": 2
}
